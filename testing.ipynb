{
 "cells": [
  {
   "cell_type": "code",
   "execution_count": 3,
   "metadata": {},
   "outputs": [],
   "source": [
    "import numpy as np\n",
    "import pandas as pd\n",
    "import matplotlib.pyplot as plt"
   ]
  },
  {
   "cell_type": "code",
   "execution_count": 4,
   "metadata": {},
   "outputs": [],
   "source": [
    "import requests\n",
    "\n",
    "cik = \"0000320193\" # Apple Inc. CIK\n",
    "url = f\"https://data.sec.gov/submissions/CIK{cik}.json\"\n",
    "\n",
    "params = {\n",
    "    \"action\": \"getcompany\",\n",
    "    \"output\": \"json\",\n",
    "    \"type\": \"8-K\",\n",
    "    \"count\": 100, # Limit to 100 filings\n",
    "    \"CIK\": cik\n",
    "}\n",
    "\n",
    "response = requests.get(url, params=params, headers={\"User-Agent\": \"Mozilla/5.0\"})\n",
    "\n",
    "if response.status_code == 200:\n",
    "    data = response.json()\n",
    "    # Extract relevant information from the JSON response\n",
    "else:\n",
    "    print(\"API request failed.\")"
   ]
  },
  {
   "cell_type": "code",
   "execution_count": 12,
   "metadata": {},
   "outputs": [],
   "source": [
    "from edgar import Company\n",
    "company = Company(\"Oracle Corp\", \"0001341439\")\n",
    "tree = company.get_all_filings(filing_type = \"10-K\")\n",
    "docs = Company.get_documents(tree, no_of_documents=5, as_documents=True)"
   ]
  },
  {
   "cell_type": "code",
   "execution_count": 13,
   "metadata": {},
   "outputs": [
    {
     "name": "stdout",
     "output_type": "stream",
     "text": [
      "[{'url': 'https://www.sec.gov/Archives/edgar/data/1341439/000156459022023675/0001564590-22-023675-index.htm', 'content': {'Filing Date': '2022-06-21', 'Accepted': '2022-06-21 08:04:37', 'Documents': '102', 'Period of Report': '2022-05-31'}, 'element': <Element html at 0x2477fc11710>}, {'url': 'https://www.sec.gov/Archives/edgar/data/1341439/000156459021033616/0001564590-21-033616-index.htm', 'content': {'Filing Date': '2021-06-21', 'Accepted': '2021-06-21 16:10:31', 'Documents': '105', 'Period of Report': '2021-05-31'}, 'element': <Element html at 0x2470502da80>}, {'url': 'https://www.sec.gov/Archives/edgar/data/1341439/000156459020030125/0001564590-20-030125-index.htm', 'content': {'Filing Date': '2020-06-22', 'Accepted': '2020-06-22 16:25:49', 'Documents': '106', 'Period of Report': '2020-05-31'}, 'element': <Element html at 0x24704fd7ab0>}, {'url': 'https://www.sec.gov/Archives/edgar/data/1341439/000156459019023119/0001564590-19-023119-index.htm', 'content': {'Filing Date': '2019-06-21', 'Accepted': '2019-06-21 16:29:05', 'Documents': '108', 'Period of Report': '2019-05-31'}, 'element': <Element html at 0x24704fd7c40>}, {'url': 'https://www.sec.gov/Archives/edgar/data/1341439/000119312518201034/0001193125-18-201034-index.htm', 'content': {'Filing Date': '2018-06-22', 'Accepted': '2018-06-22 16:09:07', 'Documents': '105', 'Period of Report': '2018-05-31'}, 'element': <Element html at 0x24704fd7c90>}]\n"
     ]
    }
   ],
   "source": [
    "print(docs)"
   ]
  },
  {
   "cell_type": "code",
   "execution_count": 11,
   "metadata": {},
   "outputs": [
    {
     "ename": "Exception",
     "evalue": "API error: 403 - {\"status\":403,\"error\":\"API token invalid. Please get a valid token from sec-api.io\"}",
     "output_type": "error",
     "traceback": [
      "\u001b[1;31m---------------------------------------------------------------------------\u001b[0m",
      "\u001b[1;31mException\u001b[0m                                 Traceback (most recent call last)",
      "Cell \u001b[1;32mIn[11], line 12\u001b[0m\n\u001b[0;32m      9\u001b[0m filing_url_10k \u001b[39m=\u001b[39m \u001b[39m\"\u001b[39m\u001b[39mhttps://www.sec.gov/Archives/edgar/data/1318605/000156459021004599/tsla-10k_20201231.htm\u001b[39m\u001b[39m\"\u001b[39m\n\u001b[0;32m     11\u001b[0m \u001b[39m# get the standardized and cleaned text of section 1A \"Risk Factors\"\u001b[39;00m\n\u001b[1;32m---> 12\u001b[0m section_text \u001b[39m=\u001b[39m extractorApi\u001b[39m.\u001b[39;49mget_section(filing_url_10k, \u001b[39m\"\u001b[39;49m\u001b[39m1A\u001b[39;49m\u001b[39m\"\u001b[39;49m, \u001b[39m\"\u001b[39;49m\u001b[39mtext\u001b[39;49m\u001b[39m\"\u001b[39;49m)\n\u001b[0;32m     14\u001b[0m \u001b[39m# get the original HTML of section 7 \"Management’s Discussion and Analysis of Financial Condition and Results of Operations\"\u001b[39;00m\n\u001b[0;32m     15\u001b[0m section_html \u001b[39m=\u001b[39m extractorApi\u001b[39m.\u001b[39mget_section(filing_url_10k, \u001b[39m\"\u001b[39m\u001b[39m7\u001b[39m\u001b[39m\"\u001b[39m, \u001b[39m\"\u001b[39m\u001b[39mhtml\u001b[39m\u001b[39m\"\u001b[39m)\n",
      "File \u001b[1;32mc:\\Users\\aaron\\AppData\\Local\\pypoetry\\Cache\\virtualenvs\\finance2-final-project-nmoxH2VC-py3.10\\lib\\site-packages\\sec_api\\index.py:179\u001b[0m, in \u001b[0;36mExtractorApi.get_section\u001b[1;34m(self, filing_url, section, return_type)\u001b[0m\n\u001b[0;32m    177\u001b[0m         time\u001b[39m.\u001b[39msleep(\u001b[39m0.5\u001b[39m \u001b[39m*\u001b[39m (x \u001b[39m+\u001b[39m \u001b[39m1\u001b[39m))\n\u001b[0;32m    178\u001b[0m     \u001b[39melse\u001b[39;00m:\n\u001b[1;32m--> 179\u001b[0m         handle_api_error(response)\n\u001b[0;32m    180\u001b[0m \u001b[39melse\u001b[39;00m:\n\u001b[0;32m    181\u001b[0m     handle_api_error(response)\n",
      "File \u001b[1;32mc:\\Users\\aaron\\AppData\\Local\\pypoetry\\Cache\\virtualenvs\\finance2-final-project-nmoxH2VC-py3.10\\lib\\site-packages\\sec_api\\index.py:21\u001b[0m, in \u001b[0;36mhandle_api_error\u001b[1;34m(response)\u001b[0m\n\u001b[0;32m     20\u001b[0m \u001b[39mdef\u001b[39;00m \u001b[39mhandle_api_error\u001b[39m(response):\n\u001b[1;32m---> 21\u001b[0m     \u001b[39mraise\u001b[39;00m \u001b[39mException\u001b[39;00m(\u001b[39m\"\u001b[39m\u001b[39mAPI error: \u001b[39m\u001b[39m{}\u001b[39;00m\u001b[39m - \u001b[39m\u001b[39m{}\u001b[39;00m\u001b[39m\"\u001b[39m\u001b[39m.\u001b[39mformat(response\u001b[39m.\u001b[39mstatus_code, response\u001b[39m.\u001b[39mtext))\n",
      "\u001b[1;31mException\u001b[0m: API error: 403 - {\"status\":403,\"error\":\"API token invalid. Please get a valid token from sec-api.io\"}"
     ]
    }
   ],
   "source": [
    "from sec_api import ExtractorApi\n",
    "\n",
    "extractorApi = ExtractorApi(\"YOUR_API_KEY\")\n",
    "\n",
    "#\n",
    "# 10-K example\n",
    "#\n",
    "# Tesla 10-K filing\n",
    "filing_url_10k = \"https://www.sec.gov/Archives/edgar/data/1318605/000156459021004599/tsla-10k_20201231.htm\"\n",
    "\n",
    "# get the standardized and cleaned text of section 1A \"Risk Factors\"\n",
    "section_text = extractorApi.get_section(filing_url_10k, \"1A\", \"text\")\n",
    "\n",
    "# get the original HTML of section 7 \"Management’s Discussion and Analysis of Financial Condition and Results of Operations\"\n",
    "section_html = extractorApi.get_section(filing_url_10k, \"7\", \"html\")\n",
    "\n",
    "#\n",
    "# 10-Q example\n",
    "#\n",
    "# Tesla 10-Q filing\n",
    "filing_url_10q = \"https://www.sec.gov/Archives/edgar/data/1318605/000095017022006034/tsla-20220331.htm\"\n",
    "\n",
    "# extract section 1A \"Risk Factors\" in part 2 as cleaned text\n",
    "extracted_section_10q = extractorApi.get_section(filing_url_10q, \"part2item1a\", \"text\")\n",
    "\n",
    "#\n",
    "# 8-K example\n",
    "#\n",
    "filing_url_8k = \"https://www.sec.gov/Archives/edgar/data/66600/000149315222016468/form8-k.htm\"\n",
    "\n",
    "# extract section 1.01 \"Entry into Material Definitive Agreement\" as cleaned text\n",
    "extracted_section_8k = extractorApi.get_section(filing_url_8k, \"1-1\", \"text\")"
   ]
  },
  {
   "cell_type": "code",
   "execution_count": null,
   "metadata": {},
   "outputs": [],
   "source": []
  }
 ],
 "metadata": {
  "kernelspec": {
   "display_name": "finance2-final-project-nmoxH2VC-py3.10",
   "language": "python",
   "name": "python3"
  },
  "language_info": {
   "codemirror_mode": {
    "name": "ipython",
    "version": 3
   },
   "file_extension": ".py",
   "mimetype": "text/x-python",
   "name": "python",
   "nbconvert_exporter": "python",
   "pygments_lexer": "ipython3",
   "version": "3.10.6"
  },
  "orig_nbformat": 4
 },
 "nbformat": 4,
 "nbformat_minor": 2
}
