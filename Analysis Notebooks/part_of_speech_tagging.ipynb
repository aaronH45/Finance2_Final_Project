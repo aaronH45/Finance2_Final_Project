{
 "cells": [
  {
   "cell_type": "code",
   "execution_count": 20,
   "metadata": {},
   "outputs": [],
   "source": [
    "import os\n",
    "\n",
    "import numpy as np\n",
    "import pandas as pd\n",
    "import matplotlib.pyplot as plt\n",
    "\n",
    "# from sklearn.metrics.pairwise import cosine_similarity\n",
    "# from sklearn.feature_extraction.text import CountVectorizer\n",
    "\n",
    "import spacy\n",
    "# import en_core_web_trf\n",
    "\n",
    "from collections import defaultdict, Counter"
   ]
  },
  {
   "cell_type": "code",
   "execution_count": 2,
   "metadata": {},
   "outputs": [
    {
     "data": {
      "text/plain": [
       "True"
      ]
     },
     "execution_count": 2,
     "metadata": {},
     "output_type": "execute_result"
    }
   ],
   "source": [
    "# nlp = spacy.load(\"en_core_web_sm\")\n",
    "nlp = spacy.load(\"en_core_web_lg\")\n",
    "# nlp = spacy.load(\"en_core_web_trf\")\n",
    "\n",
    "spacy.prefer_gpu()"
   ]
  },
  {
   "cell_type": "code",
   "execution_count": 45,
   "metadata": {},
   "outputs": [
    {
     "name": "stdout",
     "output_type": "stream",
     "text": [
      "ADJ 151 long\n",
      "ADJ 41 global\n",
      "ADJ 33 more\n",
      "ADJ 32 corporate\n",
      "ADJ 29 many\n",
      "ADP 431 of\n",
      "ADP 249 to\n",
      "ADP 235 in\n",
      "ADP 211 for\n",
      "ADP 123 with\n",
      "ADV 56 more\n",
      "ADV 39 also\n",
      "ADV 24 only\n",
      "ADV 21 increasingly\n",
      "ADV 20 well\n",
      "AUX 197 is\n",
      "AUX 168 are\n",
      "AUX 130 will\n",
      "AUX 98 be\n",
      "AUX 77 have\n",
      "CCONJ 549 and\n",
      "CCONJ 50 or\n",
      "CCONJ 33 And\n",
      "CCONJ 31 but\n",
      "CCONJ 24 But\n",
      "DET 666 the\n",
      "DET 341 a\n",
      "DET 54 these\n",
      "DET 48 this\n",
      "DET 46 an\n",
      "INTJ 1 please\n",
      "NOUN 183 companies\n",
      "NOUN 170 term\n",
      "NOUN 111 company\n",
      "NOUN 64 capital\n",
      "NOUN 62 clients\n",
      "NUM 30 zero\n",
      "NUM 24 one\n",
      "NUM 10 2020\n",
      "NUM 5 two\n",
      "NUM 5 2015\n",
      "PART 380 to\n",
      "PART 97 ’s\n",
      "PART 87 not\n",
      "PART 19 ’\n",
      "PART 12 n’t\n",
      "PRON 168 we\n",
      "PRON 130 their\n",
      "PRON 116 our\n",
      "PRON 110 that\n",
      "PRON 90 your\n",
      "PROPN 67 BlackRock\n",
      "PROPN 18 Larry\n",
      "PROPN 18 Fink\n",
      "PROPN 15 U.S.\n",
      "PROPN 10 Dear\n",
      "PUNCT 853 ,\n",
      "PUNCT 681 .\n",
      "PUNCT 242 -\n",
      "PUNCT 147 –\n",
      "PUNCT 28 ;\n",
      "SCONJ 111 that\n",
      "SCONJ 62 how\n",
      "SCONJ 37 as\n",
      "SCONJ 20 if\n",
      "SCONJ 20 As\n",
      "SYM 7 $\n",
      "SYM 1 -\n",
      "VERB 40 have\n",
      "VERB 34 believe\n",
      "VERB 33 need\n",
      "VERB 29 including\n",
      "VERB 23 help\n",
      "X 1 michelle.edkins@blackrock.com\n",
      "X 1 BlackRock.com/purpose\n",
      "X 1 1\n",
      "X 1 2\n",
      "SPACE 221 \n",
      "\n",
      "\n",
      "SPACE 39 \n",
      "\n",
      "SPACE 2  \n",
      "\n",
      "\n",
      "SPACE 1         \n",
      "\n",
      "\n",
      "SPACE 1 \n",
      "\n",
      "\n",
      "\n"
     ]
    }
   ],
   "source": [
    "pos_counts = defaultdict(Counter)\n",
    "\n",
    "dear_ceo_folder = '.\\data\\dear_ceo'\n",
    "year_dict = {}\n",
    "for filename in os.listdir(dear_ceo_folder):\n",
    "    if filename.endswith(\".txt\"):\n",
    "        with open(os.path.join(dear_ceo_folder, filename), 'r', encoding='utf-8') as f:\n",
    "            text = f.read()\n",
    "            doc = nlp(text)\n",
    "            \n",
    "            for token in doc:\n",
    "                pos_counts[token.pos][token.orth] += 1\n",
    "\n",
    "\n",
    "word =[]\n",
    "pos_list = []\n",
    "count_list = []\n",
    "\n",
    "for pos_id, counts in sorted(pos_counts.items()):\n",
    "    pos = doc.vocab.strings[pos_id]\n",
    "\n",
    "    for orth_id, count in counts.most_common(5):\n",
    "        print(pos, count, doc.vocab.strings[orth_id])\n",
    "        if pos not in ['ADP', 'AUX', 'CCONJ', 'DET', 'NUM', 'PART','PUNCT' ,'SCONJ' ,'SYM','X', 'SPACE']:\n",
    "            word.append(doc.vocab.strings[orth_id])\n",
    "            pos_list.append(pos)\n",
    "            count_list.append(count)\n",
    "\n"
   ]
  },
  {
   "cell_type": "code",
   "execution_count": 95,
   "metadata": {},
   "outputs": [
    {
     "name": "stdout",
     "output_type": "stream",
     "text": [
      "ADJ\n",
      "ADV\n",
      "INTJ\n",
      "NOUN\n",
      "PRON\n",
      "PROPN\n",
      "VERB\n"
     ]
    }
   ],
   "source": [
    "def unique(list1):\n",
    " \n",
    "    # initialize a null list\n",
    "    unique_list = []\n",
    " \n",
    "    # traverse for all elements\n",
    "    for x in list1:\n",
    "        # check if exists in unique_list or not\n",
    "        if x not in unique_list:\n",
    "            unique_list.append(x)\n",
    "    # print list\n",
    "    for x in unique_list:\n",
    "        print(x)\n",
    "        \n",
    "unique(pos_list)"
   ]
  },
  {
   "cell_type": "code",
   "execution_count": 110,
   "metadata": {},
   "outputs": [
    {
     "data": {
      "image/png": "[encoded data removed]",
      "text/plain": [
       "<Figure size 640x480 with 1 Axes>"
      ]
     },
     "metadata": {},
     "output_type": "display_data"
    }
   ],
   "source": [
    "fig, ax = plt.subplots()\n",
    "\n",
    "colors = {'ADJ':'red', 'ADV':'lightblue', 'INTJ':'yellow', 'NOUN':'green', 'PRON': 'orange', 'PROPN':'purple','VERB':'pink'}\n",
    "\n",
    "\n",
    "pps = ax.bar(word, count_list, label = pos_list, color = [colors[x] for x in pos_list])\n",
    "ax.set_xticklabels('')\n",
    "plt.xlabel('Word')\n",
    "plt.ylabel('Count')\n",
    "plt.title('Top 5 words by Part Of Speech In Dear CEO Letters')\n",
    "\n",
    "handles, labels = plt.gca().get_legend_handles_labels()\n",
    "by_label = dict(zip(labels, handles))\n",
    "plt.legend(by_label.values(), by_label.keys())\n",
    "\n",
    "i = 0\n",
    "for p in pps:\n",
    "   height = p.get_height()\n",
    "   wrd = word[i]\n",
    "   if wrd in ['capital', 'Larry', 'have', 'believe','well','many', 'also']:\n",
    "      ax.annotate('{}'.format(wrd),\n",
    "      xy=(p.get_x() + p.get_width() / 2, height),\n",
    "      xytext=(5, 13), # 3 points vertical offset\n",
    "      textcoords=\"offset points\",\n",
    "      ha='center', va='bottom')\n",
    "   elif wrd in ['need','Fink']:\n",
    "      ax.annotate('{}'.format(wrd),\n",
    "      xy=(p.get_x() + p.get_width() / 2, height),\n",
    "      xytext=(5, 5), # 3 points vertical offset\n",
    "      textcoords=\"offset points\",\n",
    "      ha='center', va='bottom')\n",
    "   elif wrd in ['increasingly', 'corporate']:\n",
    "      ax.annotate('{}'.format(wrd),\n",
    "      xy=(p.get_x() + p.get_width() / 2, height),\n",
    "      xytext=(5, -4), # 3 points vertical offset\n",
    "      textcoords=\"offset points\",\n",
    "      ha='center', va='bottom')\n",
    "   else:\n",
    "      ax.annotate('{}'.format(wrd),\n",
    "         xy=(p.get_x() + p.get_width() / 2, height),\n",
    "         xytext=(5, 2), # 3 points vertical offset\n",
    "         textcoords=\"offset points\",\n",
    "         ha='center', va='bottom')\n",
    "   i = i + 1"
   ]
  },
  {
   "cell_type": "code",
   "execution_count": 12,
   "metadata": {},
   "outputs": [],
   "source": [
    "def process_text(text):\n",
    "    doc = nlp(text.lower())\n",
    "    result = []\n",
    "    for token in doc:\n",
    "        if token.text in nlp.Defaults.stop_words:\n",
    "            continue\n",
    "        if token.is_punct:\n",
    "            continue\n",
    "        if token.lemma_ == '-PRON-':\n",
    "            continue\n",
    "        result.append(token.lemma_)\n",
    "    return \" \".join(result)"
   ]
  },
  {
   "cell_type": "code",
   "execution_count": 13,
   "metadata": {},
   "outputs": [],
   "source": [
    "text1 = '.\\data\\8k_2015\\\\001\\AMAT_0000006951_8K_20150123_8-K_excerpt.txt'\n",
    "text2 = '.\\data\\8k_2015\\\\001\\AAL_0000004515_8K_20140103_8-K_excerpt.txt'"
   ]
  },
  {
   "cell_type": "code",
   "execution_count": 14,
   "metadata": {},
   "outputs": [],
   "source": [
    "text1 = open(text1, \"r\", encoding=\"utf8\").read()\n",
    "text2 = open(text2, \"r\", encoding=\"utf8\").read()\n",
    "text1 = nlp(process_text(text1))\n",
    "text2 = nlp(process_text(text2))"
   ]
  },
  {
   "cell_type": "code",
   "execution_count": 15,
   "metadata": {},
   "outputs": [
    {
     "name": "stdout",
     "output_type": "stream",
     "text": [
      "[('8', 'NUM'), ('k', 'PROPN'), ('  \\n\\n ', 'SPACE'), ('united', 'PROPN'), ('states', 'PROPN'), (' \\n\\n ', 'SPACE'), ('securities', 'NOUN'), ('exchange', 'PROPN'), ('commission', 'PROPN'), (' \\n\\n ', 'SPACE'), ('washington', 'PROPN'), ('d.c', 'PROPN'), ('20549', 'NUM'), (' \\n\\n ', 'SPACE'), ('form', 'VERB'), ('8', 'NUM'), ('k', 'NOUN'), (' \\n\\n ', 'SPACE'), ('current', 'ADJ'), ('report', 'NOUN'), (' \\n\\n ', 'SPACE'), ('pursuant', 'ADJ'), ('section', 'NOUN'), ('13', 'NUM'), ('15(d', 'NUM'), (' \\n\\n ', 'SPACE'), ('security', 'NOUN'), ('exchange', 'PROPN'), ('act', 'NOUN'), ('1934', 'NUM'), (' \\n\\n ', 'SPACE'), ('date', 'NOUN'), ('report', 'NOUN'), ('date', 'NOUN'), ('early', 'ADJ'), ('event', 'NOUN'), ('report', 'NOUN'), ('january', 'PROPN'), ('23', 'NUM'), ('2015', 'NUM'), (' \\n\\n ', 'SPACE'), ('apply', 'VERB'), ('material', 'PROPN'), ('inc', 'PROPN'), (' \\n\\n ', 'SPACE'), ('exact', 'ADJ'), ('registrant', 'NOUN'), ('specify', 'VERB'), ('charter', 'NOUN'), (' \\n\\n   ', 'SPACE'), ('data_table_removed', 'VERB'), ('\\n\\n ', 'SPACE'), ('registrant', 'NOUN'), ('telephone', 'NOUN'), ('number', 'NOUN'), ('include', 'VERB'), ('area', 'NOUN'), ('code', 'NOUN'), ('408', 'NUM'), ('727', 'NUM'), ('5555', 'NUM'), (' \\n\\n ', 'SPACE'), ('n', 'NOUN'), (' \\n\\n ', 'SPACE'), ('address', 'NOUN'), ('change', 'NOUN'), ('report', 'NOUN'), (' \\n\\n ', 'SPACE'), ('check', 'VERB'), ('appropriate', 'ADJ'), ('box', 'NOUN'), ('form', 'NOUN'), ('8', 'NUM'), ('k', 'NOUN'), ('filing', 'NOUN'), ('intend', 'AUX'), ('simultaneously', 'ADV'), ('satisfy', 'VERB'), ('filing', 'VERB'), ('obligation', 'NOUN'), ('registrant', 'NOUN'), ('follow', 'NOUN'), ('provision', 'NOUN'), (' \\n\\n  ', 'SPACE'), ('¨', 'ADP'), ('write', 'VERB'), ('communication', 'NOUN'), ('pursuant', 'ADJ'), ('rule', 'NOUN'), ('425', 'NUM'), ('security', 'NOUN'), ('act', 'NOUN'), ('17', 'NUM'), ('cfr', 'NOUN'), ('230.425', 'NUM'), (' \\n\\n  ', 'SPACE'), ('¨', 'ADP'), ('solicit', 'ADP'), ('material', 'NOUN'), ('pursuant', 'ADJ'), ('rule', 'NOUN'), ('14a-12', 'NUM'), ('exchange', 'PROPN'), ('act', 'NOUN'), ('17', 'NUM'), ('cfr', 'NOUN'), ('240.14a-12', 'NUM'), (' \\n\\n  ', 'SPACE'), ('¨', 'ADP'), ('pre', 'ADJ'), ('commencement', 'NOUN'), ('communication', 'NOUN'), ('pursuant', 'ADJ'), ('rule', 'NOUN'), ('14d-2(b', 'ADJ'), ('exchange', 'NOUN'), ('act', 'NOUN'), ('17', 'NUM'), ('cfr', 'NOUN'), ('240.14d-2(b', 'ADJ'), (' \\n\\n  ', 'SPACE'), ('¨', 'ADP'), ('pre', 'ADJ'), ('commencement', 'NOUN'), ('communication', 'NOUN'), ('pursuant', 'ADJ'), ('rule', 'NOUN'), ('13e-4(c', 'PROPN'), ('exchange', 'PROPN'), ('act', 'NOUN'), ('17', 'NUM'), ('cfr', 'NOUN'), ('240.13e-4(c', 'NUM'), (' \\n\\n ', 'SPACE'), ('item', 'NOUN'), ('8.01', 'NUM'), ('event', 'NOUN'), (' \\n\\n ', 'SPACE'), ('apply', 'VERB'), ('material', 'PROPN'), ('inc', 'PROPN'), ('tokyo', 'PROPN'), ('electron', 'NOUN'), ('limited', 'PROPN'), ('actively', 'ADV'), ('engage', 'VERB'), ('regulator', 'NOUN'), ('world', 'NOUN'), ('secure', 'ADJ'), ('approval', 'NOUN'), ('propose', 'NOUN'), ('business', 'NOUN'), ('combination', 'NOUN'), ('event', 'NOUN'), ('unable', 'ADJ'), ('conclude', 'VERB'), ('discussion', 'PROPN'), ('ministry', 'PROPN'), ('commerce', 'PROPN'), ('mofcom', 'PROPN'), ('people', 'PROPN'), ('republic', 'PROPN'), ('china', 'PROPN'), ('prior', 'ADV'), ('scheduled', 'VERB'), ('end', 'NOUN'), ('current', 'ADJ'), ('review', 'NOUN'), ('phase', 'NOUN'), ('february', 'PROPN'), ('3', 'NUM'), ('2015', 'NUM'), ('anticipate', 'VERB'), ('able', 'ADJ'), ('continue', 'VERB'), ('discussion', 'NOUN'), ('date', 'NOUN'), ('coordination', 'NOUN'), ('remain', 'VERB'), ('review', 'NOUN'), ('jurisdiction', 'NOUN'), (' \\n\\n ', 'SPACE'), ('forward', 'ADV'), ('look', 'NOUN'), ('statement', 'NOUN'), (' \\n\\n ', 'SPACE'), ('form', 'NOUN'), ('8', 'NUM'), ('k', 'NOUN'), ('contain', 'VERB'), ('forward', 'ADV'), ('look', 'NOUN'), ('statement', 'NOUN'), ('include', 'VERB'), ('limit', 'NOUN'), ('propose', 'NOUN'), ('business', 'NOUN'), ('combination', 'NOUN'), ('apply', 'VERB'), ('material', 'PROPN'), ('inc', 'PROPN'), ('apply', 'VERB'), ('material', 'PROPN'), ('tokyo', 'PROPN'), ('electron', 'NOUN'), ('limit', 'PROPN'), ('tokyo', 'PROPN'), ('electron', 'NOUN'), ('business', 'NOUN'), ('combination', 'NOUN'), ('transaction', 'NOUN'), ('relate', 'VERB'), ('thereto', 'ADJ'), ('statement', 'NOUN'), ('discuss', 'VERB'), ('anticipated', 'VERB'), ('manner', 'NOUN'), ('term', 'NOUN'), ('condition', 'NOUN'), ('business', 'NOUN'), ('combination', 'NOUN'), ('consummate', 'VERB'), ('forward', 'ADV'), ('look', 'VERB'), ('statement', 'NOUN'), ('contain', 'VERB'), ('word', 'NOUN'), ('expect', 'VERB'), ('believe', 'NOUN'), ('forecast', 'NOUN'), ('anticipate', 'VERB'), ('similar', 'ADJ'), ('expression', 'NOUN'), ('include', 'VERB'), ('assumption', 'NOUN'), ('underlie', 'ADJ'), ('statement', 'NOUN'), ('statement', 'NOUN'), ('subject', 'NOUN'), ('known', 'VERB'), ('unknown', 'ADJ'), ('risk', 'NOUN'), ('uncertainty', 'NOUN'), ('cause', 'VERB'), ('actual', 'ADJ'), ('result', 'NOUN'), ('differ', 'VERB'), ('materially', 'ADV'), ('express', 'ADJ'), ('imply', 'ADJ'), ('statement', 'NOUN'), ('include', 'VERB'), ('limit', 'NOUN'), ('ability', 'NOUN'), ('party', 'NOUN'), ('consummate', 'NOUN'), ('business', 'NOUN'), ('combination', 'NOUN'), ('timely', 'ADV'), ('manner', 'NOUN'), ('satisfaction', 'NOUN'), ('condition', 'NOUN'), ('precedent', 'PROPN'), ('consummation', 'NOUN'), ('business', 'NOUN'), ('combination', 'NOUN'), ('include', 'VERB'), ('ability', 'NOUN'), ('secure', 'VERB'), ('regulatory', 'ADJ'), ('approval', 'NOUN'), ('timely', 'ADJ'), ('manner', 'NOUN'), ('possibility', 'NOUN'), ('litigation', 'NOUN'), ('include', 'VERB'), ('relate', 'VERB'), ('transaction', 'NOUN'), ('apply', 'VERB'), ('material', 'ADJ'), ('tokyo', 'PROPN'), ('electron', 'NOUN'), ('ability', 'NOUN'), ('successfully', 'ADV'), ('integrate', 'VERB'), ('operation', 'NOUN'), ('product', 'NOUN'), ('line', 'NOUN'), ('technology', 'NOUN'), ('employee', 'NOUN'), ('realize', 'VERB'), ('synergy', 'NOUN'), ('growth', 'NOUN'), ('tax', 'NOUN'), ('asset', 'NOUN'), ('business', 'NOUN'), ('combination', 'NOUN'), ('unknown', 'ADJ'), ('underestimated', 'VERB'), ('undisclosed', 'ADJ'), ('commitment', 'NOUN'), ('liability', 'NOUN'), ('potential', 'ADJ'), ('impact', 'NOUN'), ('announcement', 'NOUN'), ('consummation', 'NOUN'), ('propose', 'VERB'), ('transaction', 'NOUN'), ('party', 'PROPN'), ('relationship', 'PROPN'), ('party', 'NOUN'), ('level', 'NOUN'), ('demand', 'NOUN'), ('combine', 'VERB'), ('company', 'NOUN'), ('product', 'NOUN'), ('subject', 'ADJ'), ('factor', 'NOUN'), ('include', 'VERB'), ('uncertain', 'ADJ'), ('global', 'ADJ'), ('economic', 'ADJ'), ('industry', 'NOUN'), ('condition', 'NOUN'), ('demand', 'NOUN'), ('electronic', 'ADJ'), ('product', 'NOUN'), ('semiconductor', 'NOUN'), ('customer', 'NOUN'), ('new', 'ADJ'), ('technology', 'NOUN'), ('capacity', 'NOUN'), ('requirement', 'NOUN'), ('apply', 'VERB'), ('material', 'ADJ'), ('tokyo', 'PROPN'), ('electron', 'NOUN'), ('ability', 'NOUN'), ('develop', 'AUX'), ('deliver', 'VERB'), ('support', 'NOUN'), ('broad', 'ADJ'), ('range', 'NOUN'), ('product', 'NOUN'), ('expand', 'VERB'), ('market', 'NOUN'), ('develop', 'VERB'), ('new', 'ADJ'), ('market', 'NOUN'), ('ii', 'PROPN'), ('timely', 'ADV'), ('align', 'VERB'), ('cost', 'NOUN'), ('structure', 'NOUN'), ('business', 'NOUN'), ('condition', 'NOUN'), ('iii', 'NUM'), ('attract', 'VERB'), ('motivate', 'VERB'), ('retain', 'VERB'), ('key', 'ADJ'), ('employee', 'NOUN'), ('risk', 'NOUN'), ('describe', 'VERB'), ('apply', 'VERB'), ('material', 'NOUN'), ('filing', 'NOUN'), ('security', 'NOUN'), ('exchange', 'PROPN'), ('commission', 'NOUN'), ('forward', 'ADV'), ('look', 'VERB'), ('statement', 'NOUN'), ('base', 'NOUN'), ('management', 'NOUN'), ('estimate', 'NOUN'), ('projection', 'NOUN'), ('assumption', 'NOUN'), ('date', 'PROPN'), ('hereof', 'ADV'), ('require', 'VERB'), ('applicable', 'ADJ'), ('law', 'NOUN'), ('apply', 'VERB'), ('material', 'NOUN'), ('undertake', 'NOUN'), ('obligation', 'NOUN'), ('update', 'NOUN'), ('forward', 'ADV'), ('look', 'NOUN'), ('statement', 'NOUN'), (' \\n\\n ', 'SPACE'), ('signature', 'NOUN'), (' \\n\\n ', 'SPACE'), ('pursuant', 'ADJ'), ('requirement', 'NOUN'), ('security', 'PROPN'), ('exchange', 'PROPN'), ('act', 'NOUN'), ('1934', 'NUM'), ('registrant', 'NOUN'), ('duly', 'ADV'), ('cause', 'VERB'), ('report', 'NOUN'), ('sign', 'NOUN'), ('behalf', 'NOUN'), ('undersigned', 'VERB'), ('hereunto', 'PROPN'), ('duly', 'ADV'), ('authorize', 'VERB'), (' \\n\\n   ', 'SPACE'), ('data_table_removed', 'VERB')]\n"
     ]
    }
   ],
   "source": [
    "text1\n",
    "print([(w.text, w.pos_) for w in text1])"
   ]
  },
  {
   "cell_type": "code",
   "execution_count": 16,
   "metadata": {},
   "outputs": [
    {
     "data": {
      "text/plain": [
       "0.9464708474813811"
      ]
     },
     "execution_count": 16,
     "metadata": {},
     "output_type": "execute_result"
    }
   ],
   "source": [
    "text1.similarity(text2)"
   ]
  },
  {
   "cell_type": "code",
   "execution_count": null,
   "metadata": {},
   "outputs": [],
   "source": []
  }
 ],
 "metadata": {
  "kernelspec": {
   "display_name": "Python 3",
   "language": "python",
   "name": "python3"
  },
  "language_info": {
   "codemirror_mode": {
    "name": "ipython",
    "version": 3
   },
   "file_extension": ".py",
   "mimetype": "text/x-python",
   "name": "python",
   "nbconvert_exporter": "python",
   "pygments_lexer": "ipython3",
   "version": "3.9.7"
  },
  "orig_nbformat": 4
 },
 "nbformat": 4,
 "nbformat_minor": 2
}
