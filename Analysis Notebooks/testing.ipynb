{
 "cells": [
  {
   "cell_type": "code",
   "execution_count": 1,
   "metadata": {},
   "outputs": [],
   "source": [
    "import numpy as np\n",
    "import pandas as pd\n",
    "import matplotlib.pyplot as plt"
   ]
  },
  {
   "cell_type": "code",
   "execution_count": 2,
   "metadata": {},
   "outputs": [
    {
     "ename": "NameError",
     "evalue": "name 'cik' is not defined",
     "output_type": "error",
     "traceback": [
      "\u001b[1;31m---------------------------------------------------------------------------\u001b[0m",
      "\u001b[1;31mNameError\u001b[0m                                 Traceback (most recent call last)",
      "Cell \u001b[1;32mIn[2], line 4\u001b[0m\n\u001b[0;32m      1\u001b[0m \u001b[39mimport\u001b[39;00m \u001b[39mrequests\u001b[39;00m\n\u001b[0;32m      2\u001b[0m \u001b[39mimport\u001b[39;00m \u001b[39mjson\u001b[39;00m\n\u001b[1;32m----> 4\u001b[0m url \u001b[39m=\u001b[39m \u001b[39mf\u001b[39m\u001b[39m\"\u001b[39m\u001b[39mhttps://data.sec.gov/submissions/CIK\u001b[39m\u001b[39m{\u001b[39;00mcik\u001b[39m}\u001b[39;00m\u001b[39m.json\u001b[39m\u001b[39m\"\u001b[39m\n\u001b[0;32m      6\u001b[0m params \u001b[39m=\u001b[39m {\n\u001b[0;32m      7\u001b[0m     \u001b[39m\"\u001b[39m\u001b[39maction\u001b[39m\u001b[39m\"\u001b[39m: \u001b[39m\"\u001b[39m\u001b[39mgetcompany\u001b[39m\u001b[39m\"\u001b[39m,\n\u001b[0;32m      8\u001b[0m     \u001b[39m\"\u001b[39m\u001b[39moutput\u001b[39m\u001b[39m\"\u001b[39m: \u001b[39m\"\u001b[39m\u001b[39mjson\u001b[39m\u001b[39m\"\u001b[39m,\n\u001b[1;32m   (...)\u001b[0m\n\u001b[0;32m     11\u001b[0m     \u001b[39m\"\u001b[39m\u001b[39mCIK\u001b[39m\u001b[39m\"\u001b[39m: cik\n\u001b[0;32m     12\u001b[0m }\n\u001b[0;32m     14\u001b[0m response \u001b[39m=\u001b[39m requests\u001b[39m.\u001b[39mget(url, params\u001b[39m=\u001b[39mparams, headers\u001b[39m=\u001b[39m{\u001b[39m\"\u001b[39m\u001b[39mUser-Agent\u001b[39m\u001b[39m\"\u001b[39m: \u001b[39m\"\u001b[39m\u001b[39mMozilla/5.0\u001b[39m\u001b[39m\"\u001b[39m})\n",
      "\u001b[1;31mNameError\u001b[0m: name 'cik' is not defined"
     ]
    }
   ],
   "source": [
    "import requests\n",
    "import json\n",
    "\n",
    "url = f\"https://data.sec.gov/submissions/CIK{cik}.json\"\n",
    "\n",
    "params = {\n",
    "    \"action\": \"getcompany\",\n",
    "    \"output\": \"json\",\n",
    "    \"type\": \"8-K\",\n",
    "    \"count\": 100, # Limit to 100 filings\n",
    "    \"CIK\": cik\n",
    "}\n",
    "\n",
    "response = requests.get(url, params=params, headers={\"User-Agent\": \"Mozilla/5.0\"})\n",
    "\n",
    "if response.status_code == 200:\n",
    "    data = response.json()\n",
    "    #pretty print the data for inspection\n",
    "    print(json.dumps(data, indent=4))\n",
    "    \n",
    "    # Extract relevant information from the JSON response\n",
    "else:\n",
    "    print(\"API request failed.\")"
   ]
  },
  {
   "cell_type": "code",
   "execution_count": 3,
   "metadata": {},
   "outputs": [
    {
     "ename": "ModuleNotFoundError",
     "evalue": "No module named 'sec_edgar_downloader'",
     "output_type": "error",
     "traceback": [
      "\u001b[1;31m---------------------------------------------------------------------------\u001b[0m",
      "\u001b[1;31mModuleNotFoundError\u001b[0m                       Traceback (most recent call last)",
      "Cell \u001b[1;32mIn[3], line 1\u001b[0m\n\u001b[1;32m----> 1\u001b[0m \u001b[39mfrom\u001b[39;00m \u001b[39msec_edgar_downloader\u001b[39;00m \u001b[39mimport\u001b[39;00m Downloader\n\u001b[0;32m      2\u001b[0m dl \u001b[39m=\u001b[39m Downloader(\u001b[39m\"\u001b[39m\u001b[39m./downloads\u001b[39m\u001b[39m\"\u001b[39m)\n\u001b[0;32m      3\u001b[0m dl\u001b[39m.\u001b[39mget(\u001b[39m\"\u001b[39m\u001b[39m7-K\u001b[39m\u001b[39m\"\u001b[39m, \u001b[39m\"\u001b[39m\u001b[39mAAPL\u001b[39m\u001b[39m\"\u001b[39m)\n",
      "\u001b[1;31mModuleNotFoundError\u001b[0m: No module named 'sec_edgar_downloader'"
     ]
    }
   ],
   "source": [
    "from sec_edgar_downloader import Downloader\n",
    "dl = Downloader(\"./downloads\")\n",
    "dl.get(\"7-K\", \"AAPL\")\n"
   ]
  },
  {
   "cell_type": "code",
   "execution_count": 4,
   "metadata": {},
   "outputs": [
    {
     "ename": "NameError",
     "evalue": "name 'params' is not defined",
     "output_type": "error",
     "traceback": [
      "\u001b[1;31m---------------------------------------------------------------------------\u001b[0m",
      "\u001b[1;31mNameError\u001b[0m                                 Traceback (most recent call last)",
      "Cell \u001b[1;32mIn[4], line 18\u001b[0m\n\u001b[0;32m     15\u001b[0m headers \u001b[39m=\u001b[39m {\u001b[39m'\u001b[39m\u001b[39mAuthorization\u001b[39m\u001b[39m'\u001b[39m: \u001b[39mf\u001b[39m\u001b[39m'\u001b[39m\u001b[39mBearer \u001b[39m\u001b[39m{\u001b[39;00mapi_key\u001b[39m}\u001b[39;00m\u001b[39m'\u001b[39m}\n\u001b[0;32m     17\u001b[0m \u001b[39m# Make the API call and retrieve the data\u001b[39;00m\n\u001b[1;32m---> 18\u001b[0m response \u001b[39m=\u001b[39m requests\u001b[39m.\u001b[39mget(url, params\u001b[39m=\u001b[39mparams, headers\u001b[39m=\u001b[39m{\u001b[39m\"\u001b[39m\u001b[39mUser-Agent\u001b[39m\u001b[39m\"\u001b[39m: \u001b[39m\"\u001b[39m\u001b[39mMozilla/5.0\u001b[39m\u001b[39m\"\u001b[39m})\n\u001b[0;32m     19\u001b[0m \u001b[39mprint\u001b[39m(response)\n\u001b[0;32m     20\u001b[0m data \u001b[39m=\u001b[39m response\u001b[39m.\u001b[39mjson()\n",
      "\u001b[1;31mNameError\u001b[0m: name 'params' is not defined"
     ]
    }
   ],
   "source": [
    "import requests\n",
    "import time\n",
    "from bs4 import BeautifulSoup\n",
    "\n",
    "# Replace 'your-api-key' with your actual API key\n",
    "api_key = 'your-api-key'\n",
    "\n",
    "# Replace '1234567' with the CIK of the company you want to search for\n",
    "cik = \"0000320193\" # Apple Inc. CIK\n",
    "\n",
    "# Set the API endpoint URL\n",
    "url = f'https://data.sec.gov/submissions/CIK{cik}.json'\n",
    "\n",
    "# Set the headers with the API key\n",
    "headers = {'Authorization': f'Bearer {api_key}'}\n",
    "\n",
    "# Make the API call and retrieve the data\n",
    "response = requests.get(url, params=params, headers={\"User-Agent\": \"Mozilla/5.0\"})\n",
    "print(response)\n",
    "data = response.json()\n",
    "data = data[\"filings\"]['recent'][\"accessionNumber\"]\n",
    "# pretty print data\n",
    "#print(json.dumps(data, indent=4))\n",
    "\n",
    "urls = []\n",
    "for number in data:\n",
    "    urls.append(number)\n",
    "print(urls)\n",
    "# Download the filings and parse them\n",
    "# for url in urls:\n",
    "#     url = f'https://www.sec.gov/Archives/edgar/data/{cik}/{url.replace(\"-\", \"\")}/index.htm'\n",
    "#     response = requests.get(url)\n",
    "#     soup = BeautifulSoup(response.text, 'html.parser')\n",
    "#     print(soup)\n",
    "#     time.sleep(10)\n",
    "    # Extract the relevant information from the filings\n",
    "    # ...\n"
   ]
  },
  {
   "cell_type": "code",
   "execution_count": 5,
   "metadata": {},
   "outputs": [
    {
     "name": "stdout",
     "output_type": "stream",
     "text": [
      "['https://www.sec.gov/ix?doc=/Archives/edgar/data/1341439/000156459023003362/orcl-8k_20230309.htm']\n"
     ]
    }
   ],
   "source": [
    "\n",
    "import time\n",
    "import requests\n",
    "from bs4 import BeautifulSoup\n",
    "from edgar import Company\n",
    "\n",
    "# Define the SEC EDGAR website URL for 8-K filings\n",
    "RATE_LIMIT = 10\n",
    "# Get the url for the filing details\n",
    "urls = []\n",
    "company = Company(\"Oracle Corp\", \"0001341439\")\n",
    "tree = company.get_all_filings(filing_type = \"8-K\")\n",
    "docs = Company.get_documents(tree, no_of_documents=1, as_documents=True)\n",
    "if isinstance(docs, str):\n",
    "    docs = [docs]\n",
    "for doc in docs:\n",
    "    urls.append(doc.url)\n",
    "\n",
    "# Send an HTTP GET request to the filing details\n",
    "files = []\n",
    "for i, link in enumerate(urls):\n",
    "    response = requests.get(link, headers={'User-Agent': 'Mozilla/5.0'})\n",
    "    # Parse the HTML response using BeautifulSoup\n",
    "    soup = BeautifulSoup(response.text, 'html.parser')\n",
    "    files.append(soup)\n",
    "    if i < len(urls) - 1:\n",
    "        time.sleep(RATE_LIMIT)\n",
    "\n",
    "# Find the link to the filing document\n",
    "BASE_URL = \"https://www.sec.gov\"\n",
    "document_links = []\n",
    "for soup in files:\n",
    "    table = soup.find('table', {'class': 'tableFile'})\n",
    "    rows = table.find_all('tr')\n",
    "    document_link = None\n",
    "\n",
    "    for row in rows:\n",
    "        # find row with second column value of 8-K\n",
    "        row = row.find_all('td')\n",
    "        if len(row) > 1 and row[1].text == '8-K':\n",
    "            document_link = row[2].find('a')['href']\n",
    "            document_links.append(BASE_URL + document_link)\n",
    "            break\n",
    "print(document_links)\n"
   ]
  },
  {
   "cell_type": "code",
   "execution_count": null,
   "metadata": {},
   "outputs": [],
   "source": []
  }
 ],
 "metadata": {
  "kernelspec": {
   "display_name": "finance2-final-project-nmoxH2VC-py3.10",
   "language": "python",
   "name": "python3"
  },
  "language_info": {
   "codemirror_mode": {
    "name": "ipython",
    "version": 3
   },
   "file_extension": ".py",
   "mimetype": "text/x-python",
   "name": "python",
   "nbconvert_exporter": "python",
   "pygments_lexer": "ipython3",
   "version": "3.10.6"
  },
  "orig_nbformat": 4
 },
 "nbformat": 4,
 "nbformat_minor": 2
}
